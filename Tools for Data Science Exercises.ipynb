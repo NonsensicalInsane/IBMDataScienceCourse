{
  "nbformat": 4,
  "nbformat_minor": 0,
  "metadata": {
    "colab": {
      "provenance": []
    },
    "kernelspec": {
      "name": "python3",
      "display_name": "Python 3"
    },
    "language_info": {
      "name": "python"
    }
  },
  "cells": [
    {
      "cell_type": "markdown",
      "source": [
        "# Tools for Data Science Exercises"
      ],
      "metadata": {
        "id": "Nseki57HbumN"
      }
    },
    {
      "cell_type": "markdown",
      "source": [
        "### Introduction"
      ],
      "metadata": {
        "id": "22yBtnUub2J4"
      }
    },
    {
      "cell_type": "markdown",
      "source": [
        "Hi everyone, this notebook is for \"Tool for Data Science by IBM\" course."
      ],
      "metadata": {
        "id": "CF7eNX_vb484"
      }
    },
    {
      "cell_type": "markdown",
      "source": [
        "### Data Science languages:\n",
        "* Scala\n",
        "* Python\n",
        "* SQL\n",
        "* Python\n",
        "* R"
      ],
      "metadata": {
        "id": "I17IxI6YcJb7"
      }
    },
    {
      "cell_type": "markdown",
      "source": [
        "### Data Science libraries:\n",
        "\n",
        "| Python | R|\n",
        "| --- | --- |\n",
        "|Scipy| dplyr  |\n",
        "|Numpy|  tidyr |\n",
        "|PyTorch| ggplot2  |\n",
        "|Tensorflow|caret   |\n",
        "|Matplotlib| randomForest  |\n",
        "|Seaborn| e1071  |\n",
        "|Scikit-learn| xgboost  |\n",
        "\n"
      ],
      "metadata": {
        "id": "-s3wZQY-cKZZ"
      }
    },
    {
      "cell_type": "markdown",
      "source": [
        "### Arithmetic Operations\n",
        "1. Adding: 5 + 5\n",
        "2. Subtracting: 6 - 5\n",
        "3. Multiplying: 8 * 2\n",
        "4. Division: 10 / 5"
      ],
      "metadata": {
        "id": "MWdPXFZKcKc1"
      }
    },
    {
      "cell_type": "code",
      "execution_count": 9,
      "metadata": {
        "colab": {
          "base_uri": "https://localhost:8080/"
        },
        "id": "MOqVUmTZbqzA",
        "outputId": "6bb7f8b9-ba0e-4bb2-e72e-fcab70c1e342"
      },
      "outputs": [
        {
          "output_type": "stream",
          "name": "stdout",
          "text": [
            "Adding numbers:  10\n",
            "Multiplying numbers:  16\n"
          ]
        }
      ],
      "source": [
        "print(\"Adding numbers: \", 5+5)\n",
        "print(\"Multiplying numbers: \", 8*2)"
      ]
    },
    {
      "cell_type": "code",
      "source": [
        "print(\"600 minutes to {} hours\".format(600/60))"
      ],
      "metadata": {
        "colab": {
          "base_uri": "https://localhost:8080/"
        },
        "id": "kva6pv1Fe0Su",
        "outputId": "41f65e30-259c-482f-d342-86df65b2782b"
      },
      "execution_count": 14,
      "outputs": [
        {
          "output_type": "stream",
          "name": "stdout",
          "text": [
            "600 minutes to 10.0 hours\n"
          ]
        }
      ]
    },
    {
      "cell_type": "markdown",
      "source": [
        "### Objectives\n",
        "\n",
        "* Learn how to create a numbered list in Markdown.\n",
        "* Practice using the `-`, `*`, and `.` symbols to create different types of lists.\n",
        "* Learn how to create nested lists.\n",
        "* Review the Markdown Cheat Sheet for more information on Markdown syntax."
      ],
      "metadata": {
        "id": "fVEKJcQWfswo"
      }
    },
    {
      "cell_type": "markdown",
      "source": [
        "### Author\n",
        "\n",
        "Furkan E. Yazıcı"
      ],
      "metadata": {
        "id": "fdggWUQbf68e"
      }
    },
    {
      "cell_type": "code",
      "source": [],
      "metadata": {
        "colab": {
          "base_uri": "https://localhost:8080/",
          "height": 140
        },
        "id": "DhN8GuhafQMH",
        "outputId": "0d906ad3-e789-41ae-a107-22021a1986c0"
      },
      "execution_count": 15,
      "outputs": [
        {
          "output_type": "error",
          "ename": "SyntaxError",
          "evalue": "ignored",
          "traceback": [
            "\u001b[0;36m  File \u001b[0;32m\"<ipython-input-15-9188b4cd69bf>\"\u001b[0;36m, line \u001b[0;32m3\u001b[0m\n\u001b[0;31m    Furkan E. Yazıcı\u001b[0m\n\u001b[0m           ^\u001b[0m\n\u001b[0;31mSyntaxError\u001b[0m\u001b[0;31m:\u001b[0m invalid syntax\n"
          ]
        }
      ]
    },
    {
      "cell_type": "code",
      "source": [],
      "metadata": {
        "id": "MbB3P-Cvf5wQ"
      },
      "execution_count": null,
      "outputs": []
    }
  ]
}